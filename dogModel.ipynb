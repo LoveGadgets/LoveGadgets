{
 "cells": [
  {
   "cell_type": "code",
   "execution_count": 2,
   "metadata": {
    "colab": {
     "base_uri": "https://localhost:8080/",
     "height": 34
    },
    "colab_type": "code",
    "id": "4IaeQR0N-UFk",
    "outputId": "443cf160-6fc8-40e0-8cd6-350064e56000"
   },
   "outputs": [
    {
     "name": "stdout",
     "output_type": "stream",
     "text": [
      "Drive already mounted at /content/drive; to attempt to forcibly remount, call drive.mount(\"/content/drive\", force_remount=True).\n"
     ]
    }
   ],
   "source": [
    "from google.colab import drive\n",
    "drive.mount('/content/drive')"
   ]
  },
  {
   "cell_type": "code",
   "execution_count": 0,
   "metadata": {
    "colab": {},
    "colab_type": "code",
    "id": "ELi_B-kdOpYU"
   },
   "outputs": [],
   "source": [
    "import tensorflow as tf\n",
    "import array as arr\n",
    "import numpy as np\n",
    "import scipy.io as sio\n",
    "import matplotlib.pyplot as plt\n",
    "%matplotlib inline"
   ]
  },
  {
   "cell_type": "code",
   "execution_count": 0,
   "metadata": {
    "colab": {},
    "colab_type": "code",
    "id": "6epNVwfC_1a4"
   },
   "outputs": [],
   "source": [
    "def y_data_mat(list_path, info):\n",
    "    mat_file = sio.loadmat(list_path)\n",
    "    y_name_array = mat_file[info][0][0][0]\n",
    "    y_train = []\n",
    "    category_dict = dict()\n",
    "    with open(\"/content/drive/My Drive/Colab Notebooks/map.txt\", 'r') as infile:\n",
    "        for line in infile:\n",
    "            line = line.strip().split()\n",
    "            category_dict[line[0]] = line[1] \n",
    "    for i in range(len(y_name_array)):\n",
    "        name = y_name_array[i][0][0].split(\"/\")[0].split(\"-\",1)[1]\n",
    "        category_index = category_dict[name]\n",
    "        y_train.append(int(category_index))\n",
    "    y_train = np.array(y_train)\n",
    "    return y_train"
   ]
  },
  {
   "cell_type": "code",
   "execution_count": 0,
   "metadata": {
    "colab": {},
    "colab_type": "code",
    "id": "WcFpPXtvAniZ"
   },
   "outputs": [],
   "source": [
    "# y_data_mat(\"/content/drive/My Drive/Colab Notebooks/train_data.mat\")\n"
   ]
  },
  {
   "cell_type": "code",
   "execution_count": 0,
   "metadata": {
    "colab": {},
    "colab_type": "code",
    "id": "zHo4CCtXA_nl"
   },
   "outputs": [],
   "source": [
    "def x_data_mat(list_path,type):\n",
    "    mat_file = sio.loadmat(list_path)\n",
    "    a = sorted(mat_file.keys())\n",
    "    array = mat_file[type]\n",
    "    return array"
   ]
  },
  {
   "cell_type": "code",
   "execution_count": 0,
   "metadata": {
    "colab": {},
    "colab_type": "code",
    "id": "F-_yMEpXBBdk"
   },
   "outputs": [],
   "source": [
    "# x_data_mat(\"/content/drive/My Drive/Colab Notebooks/train_data.mat\", 'train_data')"
   ]
  },
  {
   "cell_type": "code",
   "execution_count": 0,
   "metadata": {
    "colab": {},
    "colab_type": "code",
    "id": "RKZF9EmROuZu"
   },
   "outputs": [],
   "source": [
    "x_train = x_data_mat(\"/content/drive/My Drive/Colab Notebooks/train_data.mat\", 'train_data')\n",
    "x_test = x_data_mat(\"/content/drive/My Drive/Colab Notebooks/test_data.mat\", 'test_data')\n",
    "y_train = y_data_mat(\"/content/drive/My Drive/Colab Notebooks/train_data.mat\", 'train_info')\n",
    "y_test = y_data_mat(\"/content/drive/My Drive/Colab Notebooks/test_data.mat\", 'test_info')"
   ]
  },
  {
   "cell_type": "code",
   "execution_count": 0,
   "metadata": {
    "colab": {},
    "colab_type": "code",
    "id": "RIa7EYpCBJCE"
   },
   "outputs": [],
   "source": [
    "model = tf.keras.models.Sequential([\n",
    "  tf.keras.layers.Dense(512, activation='relu'),\n",
    "  tf.keras.layers.Dropout(0.2),\n",
    "  tf.keras.layers.Dense(120)\n",
    "])"
   ]
  },
  {
   "cell_type": "code",
   "execution_count": 11,
   "metadata": {
    "colab": {
     "base_uri": "https://localhost:8080/",
     "height": 442
    },
    "colab_type": "code",
    "id": "uGnaLOwfm9lV",
    "outputId": "41900167-5f24-4402-d582-93f28dcea8dd"
   },
   "outputs": [
    {
     "data": {
      "text/plain": [
       "array([[-0.25692105,  0.49219444, -0.36371273, -0.24882458,  0.24772997,\n",
       "         0.12330627, -0.19337918, -0.6120679 , -0.49509263, -0.13737626,\n",
       "        -0.2940473 ,  0.01445938, -0.3735778 ,  0.72020614,  0.10265759,\n",
       "         0.12365677, -0.09515376,  0.33902657, -0.6594857 ,  0.68341804,\n",
       "         0.5225028 , -0.1942741 , -0.4709517 , -0.8154605 , -0.27993047,\n",
       "         0.5062284 , -0.23822598, -1.1045389 ,  0.7988022 ,  0.17605948,\n",
       "         0.8924733 , -0.34215802, -0.63335186, -0.23933263,  0.1873253 ,\n",
       "        -0.47341743,  0.01820301, -0.5015633 ,  0.09253702,  0.11119975,\n",
       "         0.04603972, -0.17280728, -0.69125515, -0.12195138,  0.04345483,\n",
       "         0.8829461 ,  0.22050583,  0.1307347 ,  0.2243262 , -0.06951192,\n",
       "        -0.1808402 ,  0.5954784 ,  0.2883836 , -0.22370932,  0.22697058,\n",
       "         0.45431814, -0.00591904, -0.8535755 ,  0.604406  , -0.31377876,\n",
       "        -0.24052405, -0.16636753, -0.44499388,  0.2466689 , -0.3364392 ,\n",
       "        -0.251566  ,  0.7754529 ,  1.034027  , -0.35820433,  0.06287268,\n",
       "         0.24178903,  0.58675957,  0.02192249, -0.15247822, -0.48614872,\n",
       "        -0.40511453, -0.14441703,  0.05853454, -0.20780578,  0.506945  ,\n",
       "         0.38880777,  0.60723346, -0.47972843,  0.01406827, -0.4679125 ,\n",
       "         0.19065967, -0.7447464 ,  0.4154462 , -0.13285965, -0.02589083,\n",
       "         0.46347958,  0.71296847, -0.03423408,  0.10486553,  0.2395324 ,\n",
       "         0.07715978,  0.54129314, -0.28027824,  0.4290199 , -0.30058983,\n",
       "        -0.50521517,  0.22962704,  0.83570653,  0.23062906, -0.23906305,\n",
       "        -0.71886754,  0.39320612, -0.26992172, -0.06101722, -0.158669  ,\n",
       "         0.88468605, -0.40528747,  0.48551732, -0.9021991 ,  0.12898158,\n",
       "         0.2856558 ,  0.72376037,  0.03676921, -0.37024912, -0.1263346 ]],\n",
       "      dtype=float32)"
      ]
     },
     "execution_count": 11,
     "metadata": {
      "tags": []
     },
     "output_type": "execute_result"
    }
   ],
   "source": [
    "predictions = model(x_train[:1]).numpy()\n",
    "predictions"
   ]
  },
  {
   "cell_type": "code",
   "execution_count": 0,
   "metadata": {
    "colab": {},
    "colab_type": "code",
    "id": "-xrq9gMynXu5"
   },
   "outputs": [],
   "source": []
  },
  {
   "cell_type": "code",
   "execution_count": 14,
   "metadata": {
    "colab": {
     "base_uri": "https://localhost:8080/",
     "height": 442
    },
    "colab_type": "code",
    "id": "mbtRCSFfnYOK",
    "outputId": "f6ced972-061b-48bc-bc4d-07613dd862aa"
   },
   "outputs": [
    {
     "data": {
      "text/plain": [
       "array([[0.00581024, 0.0122894 , 0.00522174, 0.00585747, 0.00962412,\n",
       "        0.00849815, 0.00619141, 0.00407339, 0.00457886, 0.00654804,\n",
       "        0.00559848, 0.00762172, 0.00517048, 0.01543672, 0.00832448,\n",
       "        0.00850113, 0.00683044, 0.01054413, 0.00388474, 0.01487915,\n",
       "        0.01266757, 0.00618588, 0.00469074, 0.00332371, 0.00567808,\n",
       "        0.01246309, 0.00591988, 0.00248931, 0.01669894, 0.0089585 ,\n",
       "        0.01833875, 0.00533551, 0.00398761, 0.00591334, 0.00905999,\n",
       "        0.00467919, 0.00765031, 0.00454933, 0.00824066, 0.00839589,\n",
       "        0.00786626, 0.0063201 , 0.00376327, 0.00664983, 0.00784595,\n",
       "        0.01816486, 0.00936565, 0.00856152, 0.0094015 , 0.00700785,\n",
       "        0.00626954, 0.01362656, 0.01002344, 0.00600645, 0.00942639,\n",
       "        0.01183263, 0.00746797, 0.00319941, 0.01374876, 0.0054891 ,\n",
       "        0.0059063 , 0.00636093, 0.0048141 , 0.00961392, 0.00536611,\n",
       "        0.00584144, 0.01631354, 0.02112738, 0.00525058, 0.00799979,\n",
       "        0.00956712, 0.01350827, 0.00767881, 0.0064499 , 0.00462   ,\n",
       "        0.00500996, 0.0065021 , 0.00796516, 0.00610273, 0.01247202,\n",
       "        0.01108231, 0.01378769, 0.00464975, 0.00761874, 0.00470502,\n",
       "        0.00909025, 0.00356726, 0.0113815 , 0.00657769, 0.0073203 ,\n",
       "        0.01194153, 0.01532539, 0.00725948, 0.00834288, 0.00954555,\n",
       "        0.00811491, 0.01290785, 0.0056761 , 0.01153704, 0.00556197,\n",
       "        0.00453274, 0.00945147, 0.01732671, 0.00946094, 0.00591493,\n",
       "        0.00366078, 0.01113117, 0.00573519, 0.00706763, 0.00641009,\n",
       "        0.01819649, 0.0050091 , 0.01220762, 0.00304757, 0.00854652,\n",
       "        0.00999614, 0.01549168, 0.00779367, 0.00518772, 0.00662075]],\n",
       "      dtype=float32)"
      ]
     },
     "execution_count": 14,
     "metadata": {
      "tags": []
     },
     "output_type": "execute_result"
    }
   ],
   "source": [
    "tf.nn.softmax(predictions).numpy()"
   ]
  },
  {
   "cell_type": "code",
   "execution_count": 0,
   "metadata": {
    "colab": {},
    "colab_type": "code",
    "id": "ZQmlhZMdndkJ"
   },
   "outputs": [],
   "source": [
    "loss_fn = tf.keras.losses.SparseCategoricalCrossentropy(from_logits=True)"
   ]
  },
  {
   "cell_type": "code",
   "execution_count": 17,
   "metadata": {
    "colab": {
     "base_uri": "https://localhost:8080/",
     "height": 34
    },
    "colab_type": "code",
    "id": "FeycuTJAnhN4",
    "outputId": "a5832dbf-9a2c-4cb0-c811-6eb074cb2d08"
   },
   "outputs": [
    {
     "data": {
      "text/plain": [
       "4.11576"
      ]
     },
     "execution_count": 17,
     "metadata": {
      "tags": []
     },
     "output_type": "execute_result"
    }
   ],
   "source": [
    "loss_fn(y_train[:1], predictions).numpy()"
   ]
  },
  {
   "cell_type": "code",
   "execution_count": 1,
   "metadata": {
    "colab": {},
    "colab_type": "code",
    "id": "dVKGIQIDBJFs"
   },
   "outputs": [
    {
     "ename": "NameError",
     "evalue": "name 'model' is not defined",
     "output_type": "error",
     "traceback": [
      "\u001b[0;31m---------------------------------------------------------------------------\u001b[0m",
      "\u001b[0;31mNameError\u001b[0m                                 Traceback (most recent call last)",
      "\u001b[0;32m<ipython-input-1-117f7d79e63d>\u001b[0m in \u001b[0;36m<module>\u001b[0;34m\u001b[0m\n\u001b[0;32m----> 1\u001b[0;31m model.compile(optimizer='adam',\n\u001b[0m\u001b[1;32m      2\u001b[0m               \u001b[0mloss\u001b[0m\u001b[0;34m=\u001b[0m\u001b[0mloss_fn\u001b[0m\u001b[0;34m,\u001b[0m\u001b[0;34m\u001b[0m\u001b[0;34m\u001b[0m\u001b[0m\n\u001b[1;32m      3\u001b[0m               metrics=['accuracy'])\n",
      "\u001b[0;31mNameError\u001b[0m: name 'model' is not defined"
     ]
    }
   ],
   "source": [
    "model.compile(optimizer='adam',\n",
    "              loss=loss_fn,\n",
    "              metrics=['accuracy'])"
   ]
  },
  {
   "cell_type": "code",
   "execution_count": 2,
   "metadata": {
    "colab": {
     "base_uri": "https://localhost:8080/",
     "height": 283
    },
    "colab_type": "code",
    "id": "75FjDAG3nb2Q",
    "outputId": "a5ac9921-e657-4ec2-a274-f7d85fdc4d98"
   },
   "outputs": [
    {
     "ename": "NameError",
     "evalue": "name 'model' is not defined",
     "output_type": "error",
     "traceback": [
      "\u001b[0;31m---------------------------------------------------------------------------\u001b[0m",
      "\u001b[0;31mNameError\u001b[0m                                 Traceback (most recent call last)",
      "\u001b[0;32m<ipython-input-2-f799c55326df>\u001b[0m in \u001b[0;36m<module>\u001b[0;34m\u001b[0m\n\u001b[0;32m----> 1\u001b[0;31m \u001b[0mmodel\u001b[0m\u001b[0;34m.\u001b[0m\u001b[0mfit\u001b[0m\u001b[0;34m(\u001b[0m\u001b[0mx_train\u001b[0m\u001b[0;34m,\u001b[0m \u001b[0my_train\u001b[0m\u001b[0;34m,\u001b[0m \u001b[0mepochs\u001b[0m\u001b[0;34m=\u001b[0m\u001b[0;36m5\u001b[0m\u001b[0;34m)\u001b[0m\u001b[0;34m\u001b[0m\u001b[0;34m\u001b[0m\u001b[0m\n\u001b[0m",
      "\u001b[0;31mNameError\u001b[0m: name 'model' is not defined"
     ]
    }
   ],
   "source": [
    "model.fit(x_train, y_train, epochs=5)"
   ]
  },
  {
   "cell_type": "code",
   "execution_count": 0,
   "metadata": {
    "colab": {},
    "colab_type": "code",
    "id": "GOla3MKgnWSi"
   },
   "outputs": [],
   "source": [
    "2"
   ]
  },
  {
   "cell_type": "code",
   "execution_count": 0,
   "metadata": {
    "colab": {},
    "colab_type": "code",
    "id": "BCNkSViPnWVc"
   },
   "outputs": [],
   "source": []
  },
  {
   "cell_type": "code",
   "execution_count": 0,
   "metadata": {
    "colab": {},
    "colab_type": "code",
    "id": "8gveE87PBJI0"
   },
   "outputs": [],
   "source": []
  },
  {
   "cell_type": "code",
   "execution_count": 0,
   "metadata": {
    "colab": {},
    "colab_type": "code",
    "id": "3YKrFuPYBJLt"
   },
   "outputs": [],
   "source": []
  },
  {
   "cell_type": "code",
   "execution_count": 0,
   "metadata": {
    "colab": {},
    "colab_type": "code",
    "id": "YrzFgQqZA6bW"
   },
   "outputs": [],
   "source": []
  },
  {
   "cell_type": "code",
   "execution_count": 0,
   "metadata": {
    "colab": {},
    "colab_type": "code",
    "id": "63S8dMiHQxaO"
   },
   "outputs": [],
   "source": [
    "from tensorflow.keras.utils import to_categorical"
   ]
  },
  {
   "cell_type": "code",
   "execution_count": 0,
   "metadata": {
    "colab": {},
    "colab_type": "code",
    "id": "1YAcuwnsSHVK"
   },
   "outputs": [],
   "source": [
    "y_cat_train = to_categorical(y_train)\n",
    "y_cat_test = to_categorical(y_test)"
   ]
  },
  {
   "cell_type": "code",
   "execution_count": 0,
   "metadata": {
    "colab": {},
    "colab_type": "code",
    "id": "VpMHIW0OhfLR"
   },
   "outputs": [],
   "source": [
    "# x_train = x_train.reshape(12000,12000,1)\n",
    "# x_test = x_test.reshape(8580,12000,1)"
   ]
  },
  {
   "cell_type": "code",
   "execution_count": 0,
   "metadata": {
    "colab": {},
    "colab_type": "code",
    "id": "X9lvknMHTAK0"
   },
   "outputs": [],
   "source": [
    "from tensorflow.keras.models import Sequential\n",
    "from tensorflow.keras.layers import Dense,Conv2D, MaxPool2D, Flatten"
   ]
  },
  {
   "cell_type": "markdown",
   "metadata": {
    "colab_type": "text",
    "id": "xDr7TaGc65Fs"
   },
   "source": [
    "from tensorflow.keras.callbacks import EarlyStopping"
   ]
  },
  {
   "cell_type": "code",
   "execution_count": 0,
   "metadata": {
    "colab": {},
    "colab_type": "code",
    "id": "vmucy9rffHX6"
   },
   "outputs": [],
   "source": [
    "model = tf.keras.models.Sequential([\n",
    "  # tf.keras.layers.Flatten(input_shape=(12000, 1)),\n",
    "  tf.keras.layers.Dense(256, activation='relu'),\n",
    "  tf.keras.layers.Dropout(0.2),\n",
    "  tf.keras.layers.Dense(120)\n",
    "])"
   ]
  },
  {
   "cell_type": "code",
   "execution_count": 0,
   "metadata": {
    "colab": {},
    "colab_type": "code",
    "id": "UZnb_wrjmiNX"
   },
   "outputs": [],
   "source": [
    "loss_fn = tf.keras.losses.SparseCategoricalCrossentropy(from_logits=True)"
   ]
  },
  {
   "cell_type": "code",
   "execution_count": 0,
   "metadata": {
    "colab": {},
    "colab_type": "code",
    "id": "w9wrEUeTmot9"
   },
   "outputs": [],
   "source": [
    "model.compile(optimizer='adam',\n",
    "              loss=loss_fn,\n",
    "              metrics=['accuracy'])"
   ]
  },
  {
   "cell_type": "code",
   "execution_count": 0,
   "metadata": {
    "colab": {
     "base_uri": "https://localhost:8080/",
     "height": 34
    },
    "colab_type": "code",
    "id": "dTgKZodDx-py",
    "outputId": "c3ef6b16-8ddf-4feb-b94b-75fc07154aea"
   },
   "outputs": [
    {
     "data": {
      "text/plain": [
       "(12000, 12000)"
      ]
     },
     "execution_count": 120,
     "metadata": {
      "tags": []
     },
     "output_type": "execute_result"
    }
   ],
   "source": [
    "y_train.shape\n",
    "x_train.shape"
   ]
  },
  {
   "cell_type": "code",
   "execution_count": 0,
   "metadata": {
    "colab": {
     "base_uri": "https://localhost:8080/",
     "height": 51
    },
    "colab_type": "code",
    "id": "EcaXcMYPnqNe",
    "outputId": "f4764799-8638-4b9f-e6e1-415d69ec5039"
   },
   "outputs": [
    {
     "name": "stdout",
     "output_type": "stream",
     "text": [
      "375/375 [==============================] - 8s 21ms/step - loss: 4.8333 - accuracy: 0.0063\n"
     ]
    },
    {
     "data": {
      "text/plain": [
       "<tensorflow.python.keras.callbacks.History at 0x7f8afba9cac8>"
      ]
     },
     "execution_count": 121,
     "metadata": {
      "tags": []
     },
     "output_type": "execute_result"
    }
   ],
   "source": [
    "model.fit(x_train, y_train, epochs=1)"
   ]
  },
  {
   "cell_type": "code",
   "execution_count": 0,
   "metadata": {
    "colab": {
     "base_uri": "https://localhost:8080/",
     "height": 51
    },
    "colab_type": "code",
    "id": "4zjjGqyHnstN",
    "outputId": "969ba54f-ef6a-4bf5-f44f-ddfc3c48f1de"
   },
   "outputs": [
    {
     "name": "stdout",
     "output_type": "stream",
     "text": [
      "269/269 - 2s - loss: 4.7876 - accuracy: 0.0061\n"
     ]
    },
    {
     "data": {
      "text/plain": [
       "[4.787626266479492, 0.0060606058686971664]"
      ]
     },
     "execution_count": 57,
     "metadata": {
      "tags": []
     },
     "output_type": "execute_result"
    }
   ],
   "source": [
    "model.evaluate(x_test,  y_test, verbose=2)"
   ]
  },
  {
   "cell_type": "code",
   "execution_count": 0,
   "metadata": {
    "colab": {},
    "colab_type": "code",
    "id": "VVj7T8vn2rzU"
   },
   "outputs": [],
   "source": [
    "probability_model = tf.keras.Sequential([\n",
    "  model,\n",
    "  tf.keras.layers.Softmax()\n",
    "])"
   ]
  },
  {
   "cell_type": "code",
   "execution_count": 0,
   "metadata": {
    "colab": {
     "base_uri": "https://localhost:8080/",
     "height": 1000
    },
    "colab_type": "code",
    "id": "RgYV-10l2x4i",
    "outputId": "139aa418-a436-41e0-a770-b91be856888e"
   },
   "outputs": [
    {
     "data": {
      "text/plain": [
       "<tf.Tensor: shape=(5, 120), dtype=float32, numpy=\n",
       "array([[0.00831052, 0.00838217, 0.00833976, 0.00831697, 0.00828434,\n",
       "        0.00832154, 0.00830068, 0.00839559, 0.00836179, 0.00830673,\n",
       "        0.00832102, 0.00836506, 0.00834128, 0.00832635, 0.00829916,\n",
       "        0.00832826, 0.00831164, 0.0083556 , 0.0083342 , 0.00833145,\n",
       "        0.00834986, 0.00833571, 0.00832466, 0.00833711, 0.00837951,\n",
       "        0.00831635, 0.00834108, 0.00831843, 0.00831177, 0.0083491 ,\n",
       "        0.00833282, 0.00833461, 0.00832813, 0.00834335, 0.00834553,\n",
       "        0.00832312, 0.0083129 , 0.00831673, 0.00832912, 0.00833654,\n",
       "        0.00829391, 0.00833713, 0.00832766, 0.00833022, 0.00833384,\n",
       "        0.00834641, 0.00836087, 0.00827279, 0.00832125, 0.00830583,\n",
       "        0.00832467, 0.0083431 , 0.00833433, 0.0082759 , 0.00830886,\n",
       "        0.00834378, 0.00835085, 0.00831947, 0.00830491, 0.00832714,\n",
       "        0.00832756, 0.00832269, 0.0083432 , 0.00833541, 0.0083613 ,\n",
       "        0.00832328, 0.00832952, 0.00835964, 0.00833909, 0.00835258,\n",
       "        0.00840318, 0.00832257, 0.00836725, 0.00834255, 0.00829095,\n",
       "        0.00832251, 0.00833489, 0.00830464, 0.00832483, 0.00835045,\n",
       "        0.00832111, 0.00828556, 0.00833412, 0.00833919, 0.00830812,\n",
       "        0.00828383, 0.00832295, 0.00832796, 0.00831824, 0.00836694,\n",
       "        0.00835085, 0.00835146, 0.00832905, 0.00834715, 0.0083159 ,\n",
       "        0.00835696, 0.00832867, 0.00828984, 0.00834608, 0.00835377,\n",
       "        0.00832037, 0.00830759, 0.0083604 , 0.00832039, 0.00831496,\n",
       "        0.00835423, 0.00837018, 0.00834619, 0.0083831 , 0.00836   ,\n",
       "        0.00833759, 0.00834639, 0.00831144, 0.00836864, 0.00833545,\n",
       "        0.00832708, 0.00837677, 0.00836264, 0.00834951, 0.00834765],\n",
       "       [0.00831052, 0.00838217, 0.00833976, 0.00831697, 0.00828434,\n",
       "        0.00832154, 0.00830068, 0.00839559, 0.00836179, 0.00830673,\n",
       "        0.00832102, 0.00836506, 0.00834128, 0.00832635, 0.00829916,\n",
       "        0.00832826, 0.00831164, 0.0083556 , 0.0083342 , 0.00833145,\n",
       "        0.00834986, 0.00833571, 0.00832466, 0.00833711, 0.00837951,\n",
       "        0.00831635, 0.00834108, 0.00831843, 0.00831177, 0.0083491 ,\n",
       "        0.00833282, 0.00833461, 0.00832813, 0.00834335, 0.00834553,\n",
       "        0.00832312, 0.0083129 , 0.00831673, 0.00832912, 0.00833654,\n",
       "        0.00829391, 0.00833713, 0.00832766, 0.00833022, 0.00833384,\n",
       "        0.00834641, 0.00836087, 0.00827279, 0.00832125, 0.00830583,\n",
       "        0.00832467, 0.0083431 , 0.00833433, 0.0082759 , 0.00830886,\n",
       "        0.00834378, 0.00835085, 0.00831947, 0.00830491, 0.00832714,\n",
       "        0.00832756, 0.00832269, 0.0083432 , 0.00833541, 0.0083613 ,\n",
       "        0.00832328, 0.00832952, 0.00835964, 0.00833909, 0.00835258,\n",
       "        0.00840318, 0.00832257, 0.00836725, 0.00834255, 0.00829095,\n",
       "        0.00832251, 0.00833489, 0.00830464, 0.00832483, 0.00835045,\n",
       "        0.00832111, 0.00828556, 0.00833412, 0.00833919, 0.00830812,\n",
       "        0.00828383, 0.00832295, 0.00832796, 0.00831824, 0.00836694,\n",
       "        0.00835085, 0.00835146, 0.00832905, 0.00834715, 0.0083159 ,\n",
       "        0.00835696, 0.00832867, 0.00828984, 0.00834608, 0.00835377,\n",
       "        0.00832037, 0.00830759, 0.0083604 , 0.00832039, 0.00831496,\n",
       "        0.00835423, 0.00837018, 0.00834619, 0.0083831 , 0.00836   ,\n",
       "        0.00833759, 0.00834639, 0.00831144, 0.00836864, 0.00833545,\n",
       "        0.00832708, 0.00837677, 0.00836264, 0.00834951, 0.00834765],\n",
       "       [0.00831052, 0.00838217, 0.00833976, 0.00831697, 0.00828434,\n",
       "        0.00832154, 0.00830068, 0.00839559, 0.00836179, 0.00830673,\n",
       "        0.00832102, 0.00836506, 0.00834128, 0.00832635, 0.00829916,\n",
       "        0.00832826, 0.00831164, 0.0083556 , 0.0083342 , 0.00833145,\n",
       "        0.00834986, 0.00833571, 0.00832466, 0.00833711, 0.00837951,\n",
       "        0.00831635, 0.00834108, 0.00831843, 0.00831177, 0.0083491 ,\n",
       "        0.00833282, 0.00833461, 0.00832813, 0.00834335, 0.00834553,\n",
       "        0.00832312, 0.0083129 , 0.00831673, 0.00832912, 0.00833654,\n",
       "        0.00829391, 0.00833713, 0.00832766, 0.00833022, 0.00833384,\n",
       "        0.00834641, 0.00836087, 0.00827279, 0.00832125, 0.00830583,\n",
       "        0.00832467, 0.0083431 , 0.00833433, 0.0082759 , 0.00830886,\n",
       "        0.00834378, 0.00835085, 0.00831947, 0.00830491, 0.00832714,\n",
       "        0.00832756, 0.00832269, 0.0083432 , 0.00833541, 0.0083613 ,\n",
       "        0.00832328, 0.00832952, 0.00835964, 0.00833909, 0.00835258,\n",
       "        0.00840318, 0.00832257, 0.00836725, 0.00834255, 0.00829095,\n",
       "        0.00832251, 0.00833489, 0.00830464, 0.00832483, 0.00835045,\n",
       "        0.00832111, 0.00828556, 0.00833412, 0.00833919, 0.00830812,\n",
       "        0.00828383, 0.00832295, 0.00832796, 0.00831824, 0.00836694,\n",
       "        0.00835085, 0.00835146, 0.00832905, 0.00834715, 0.0083159 ,\n",
       "        0.00835696, 0.00832867, 0.00828984, 0.00834608, 0.00835377,\n",
       "        0.00832037, 0.00830759, 0.0083604 , 0.00832039, 0.00831496,\n",
       "        0.00835423, 0.00837018, 0.00834619, 0.0083831 , 0.00836   ,\n",
       "        0.00833759, 0.00834639, 0.00831144, 0.00836864, 0.00833545,\n",
       "        0.00832708, 0.00837677, 0.00836264, 0.00834951, 0.00834765],\n",
       "       [0.00831052, 0.00838217, 0.00833976, 0.00831697, 0.00828434,\n",
       "        0.00832154, 0.00830068, 0.00839559, 0.00836179, 0.00830673,\n",
       "        0.00832102, 0.00836506, 0.00834128, 0.00832635, 0.00829916,\n",
       "        0.00832826, 0.00831164, 0.0083556 , 0.0083342 , 0.00833145,\n",
       "        0.00834986, 0.00833571, 0.00832466, 0.00833711, 0.00837951,\n",
       "        0.00831635, 0.00834108, 0.00831843, 0.00831177, 0.0083491 ,\n",
       "        0.00833282, 0.00833461, 0.00832813, 0.00834335, 0.00834553,\n",
       "        0.00832312, 0.0083129 , 0.00831673, 0.00832912, 0.00833654,\n",
       "        0.00829391, 0.00833713, 0.00832766, 0.00833022, 0.00833384,\n",
       "        0.00834641, 0.00836087, 0.00827279, 0.00832125, 0.00830583,\n",
       "        0.00832467, 0.0083431 , 0.00833433, 0.0082759 , 0.00830886,\n",
       "        0.00834378, 0.00835085, 0.00831947, 0.00830491, 0.00832714,\n",
       "        0.00832756, 0.00832269, 0.0083432 , 0.00833541, 0.0083613 ,\n",
       "        0.00832328, 0.00832952, 0.00835964, 0.00833909, 0.00835258,\n",
       "        0.00840318, 0.00832257, 0.00836725, 0.00834255, 0.00829095,\n",
       "        0.00832251, 0.00833489, 0.00830464, 0.00832483, 0.00835045,\n",
       "        0.00832111, 0.00828556, 0.00833412, 0.00833919, 0.00830812,\n",
       "        0.00828383, 0.00832295, 0.00832796, 0.00831824, 0.00836694,\n",
       "        0.00835085, 0.00835146, 0.00832905, 0.00834715, 0.0083159 ,\n",
       "        0.00835696, 0.00832867, 0.00828984, 0.00834608, 0.00835377,\n",
       "        0.00832037, 0.00830759, 0.0083604 , 0.00832039, 0.00831496,\n",
       "        0.00835423, 0.00837018, 0.00834619, 0.0083831 , 0.00836   ,\n",
       "        0.00833759, 0.00834639, 0.00831144, 0.00836864, 0.00833545,\n",
       "        0.00832708, 0.00837677, 0.00836264, 0.00834951, 0.00834765],\n",
       "       [0.00831052, 0.00838217, 0.00833976, 0.00831697, 0.00828434,\n",
       "        0.00832154, 0.00830068, 0.00839559, 0.00836179, 0.00830673,\n",
       "        0.00832102, 0.00836506, 0.00834128, 0.00832635, 0.00829916,\n",
       "        0.00832826, 0.00831164, 0.0083556 , 0.0083342 , 0.00833145,\n",
       "        0.00834986, 0.00833571, 0.00832466, 0.00833711, 0.00837951,\n",
       "        0.00831635, 0.00834108, 0.00831843, 0.00831177, 0.0083491 ,\n",
       "        0.00833282, 0.00833461, 0.00832813, 0.00834335, 0.00834553,\n",
       "        0.00832312, 0.0083129 , 0.00831673, 0.00832912, 0.00833654,\n",
       "        0.00829391, 0.00833713, 0.00832766, 0.00833022, 0.00833384,\n",
       "        0.00834641, 0.00836087, 0.00827279, 0.00832125, 0.00830583,\n",
       "        0.00832467, 0.0083431 , 0.00833433, 0.0082759 , 0.00830886,\n",
       "        0.00834378, 0.00835085, 0.00831947, 0.00830491, 0.00832714,\n",
       "        0.00832756, 0.00832269, 0.0083432 , 0.00833541, 0.0083613 ,\n",
       "        0.00832328, 0.00832952, 0.00835964, 0.00833909, 0.00835258,\n",
       "        0.00840318, 0.00832257, 0.00836725, 0.00834255, 0.00829095,\n",
       "        0.00832251, 0.00833489, 0.00830464, 0.00832483, 0.00835045,\n",
       "        0.00832111, 0.00828556, 0.00833412, 0.00833919, 0.00830812,\n",
       "        0.00828383, 0.00832295, 0.00832796, 0.00831824, 0.00836694,\n",
       "        0.00835085, 0.00835146, 0.00832905, 0.00834715, 0.0083159 ,\n",
       "        0.00835696, 0.00832867, 0.00828984, 0.00834608, 0.00835377,\n",
       "        0.00832037, 0.00830759, 0.0083604 , 0.00832039, 0.00831496,\n",
       "        0.00835423, 0.00837018, 0.00834619, 0.0083831 , 0.00836   ,\n",
       "        0.00833759, 0.00834639, 0.00831144, 0.00836864, 0.00833545,\n",
       "        0.00832708, 0.00837677, 0.00836264, 0.00834951, 0.00834765]],\n",
       "      dtype=float32)>"
      ]
     },
     "execution_count": 59,
     "metadata": {
      "tags": []
     },
     "output_type": "execute_result"
    }
   ],
   "source": [
    "probability_model(x_test[:5])"
   ]
  },
  {
   "cell_type": "code",
   "execution_count": 0,
   "metadata": {
    "colab": {},
    "colab_type": "code",
    "id": "wv9QAbR52z3w"
   },
   "outputs": [],
   "source": []
  }
 ],
 "metadata": {
  "colab": {
   "collapsed_sections": [],
   "name": "Untitled3.ipynb",
   "provenance": []
  },
  "kernelspec": {
   "display_name": "Python 3",
   "language": "python",
   "name": "python3"
  },
  "language_info": {
   "codemirror_mode": {
    "name": "ipython",
    "version": 3
   },
   "file_extension": ".py",
   "mimetype": "text/x-python",
   "name": "python",
   "nbconvert_exporter": "python",
   "pygments_lexer": "ipython3",
   "version": "3.7.6"
  }
 },
 "nbformat": 4,
 "nbformat_minor": 1
}
