{
 "cells": [
  {
   "cell_type": "markdown",
   "metadata": {},
   "source": [
    "read its image data from Images"
   ]
  },
  {
   "cell_type": "code",
   "execution_count": 6,
   "metadata": {},
   "outputs": [],
   "source": [
    "from PIL import Image\n",
    "from pathlib import Path\n",
    "import os\n",
    "im = Image.open(\"/Users/Daniel/dogs/Images/n02093859-Kerry_blue_terrier/n02093859_508.jpg\") \n",
    "# im.show()\n",
    "dataPath = \"/Users/Daniel/dogs/Images/n02093859-Kerry_blue_terrier/\"\n",
    "def readImage(imageName):\n",
    "    imagePath = dataPath+imageName\n",
    "    return Image.open(imagePath).tobytes()"
   ]
  },
  {
   "cell_type": "markdown",
   "metadata": {},
   "source": [
    "Given an image name, read its annotation from Annotations"
   ]
  },
  {
   "cell_type": "code",
   "execution_count": 7,
   "metadata": {},
   "outputs": [],
   "source": [
    "import xml.etree.ElementTree as ET\n",
    "\n",
    "def read_annotation(dirs):\n",
    "    tree = ET.parse(dirs)\n",
    "    root = tree.getroot()\n",
    "    return root    "
   ]
  },
  {
   "cell_type": "markdown",
   "metadata": {},
   "source": [
    "Given an image name, return whether it is train (True) or test (False)."
   ]
  },
  {
   "cell_type": "code",
   "execution_count": 8,
   "metadata": {},
   "outputs": [],
   "source": [
    "import numpy as np\n",
    "import scipy.io as sio\n",
    "def isTrain(image_name, list_path):\n",
    "    mat_file = sio.loadmat(list_path)\n",
    "    sorted(mat_file.keys())\n",
    "    array = mat_file['file_list']\n",
    "    for image in array:\n",
    "        splited = np.char.split(image[0],sep = '/')\n",
    "        if image_name == splited[0][1]:\n",
    "            return True\n",
    "    return False     "
   ]
  },
  {
   "cell_type": "markdown",
   "metadata": {},
   "source": [
    "mapping"
   ]
  },
  {
   "cell_type": "code",
   "execution_count": 9,
   "metadata": {},
   "outputs": [],
   "source": [
    "import os\n",
    "def save_category_to_map(anno_path, map_file):\n",
    "    categories = set()\n",
    "    for (root,dirs,files) in os.walk(anno_path):\n",
    "        for name in files:\n",
    "#             print(os.path.join(root, name))\n",
    "            annotation = read_annotation(os.path.join(root, name))\n",
    "#             print(annotation[5][0].text)\n",
    "            categories.add(annotation[5][0].text)\n",
    "#     print(categories)\n",
    "    with open(map_file,'w') as outfile:\n",
    "        for id,val in enumerate(categories):\n",
    "            outfile.write(val + '\\t' + str(id) + '\\n')"
   ]
  },
  {
   "cell_type": "markdown",
   "metadata": {},
   "source": [
    "modify annotation on fly"
   ]
  },
  {
   "cell_type": "code",
   "execution_count": 10,
   "metadata": {},
   "outputs": [],
   "source": [
    "def get_int_annotation(anno_dirs, map_file):\n",
    "    category_dict = dict()\n",
    "    with open(map_file, 'r') as infile:\n",
    "        for line in infile:\n",
    "            line = line.strip().split()\n",
    "            category_dict[line[0]] = line[1]\n",
    "    annotation = read_annotation(anno_dirs)\n",
    "    category_index = category_dict[annotation[5][0].text]\n",
    "    annotation[5][0].text = category_index\n",
    "    return annotation"
   ]
  },
  {
   "cell_type": "markdown",
   "metadata": {},
   "source": [
    "count category numbers"
   ]
  },
  {
   "cell_type": "code",
   "execution_count": null,
   "metadata": {},
   "outputs": [],
   "source": [
    "import os\n",
    "def count_category_image(anno_path, map_file):\n",
    "    categories_name = []\n",
    "    categories_number = []\n",
    "    for (root,dirs,files) in os.walk(anno_path):      \n",
    "        categories_name.append(dirs)     \n",
    "        categories_number.append(files)\n",
    "    with open(map_file,'w') as outfile:\n",
    "        for i in range(120):\n",
    "            name = categories_name[0][i].split(\"-\")[1]\n",
    "            number = len(categories_number[i+1])\n",
    "            outfile.write(name + '\\t' + str(number) + '\\n')"
   ]
  }
 ],
 "metadata": {
  "kernelspec": {
   "display_name": "Python 3",
   "language": "python",
   "name": "python3"
  },
  "language_info": {
   "codemirror_mode": {
    "name": "ipython",
    "version": 3
   },
   "file_extension": ".py",
   "mimetype": "text/x-python",
   "name": "python",
   "nbconvert_exporter": "python",
   "pygments_lexer": "ipython3",
   "version": "3.7.6"
  }
 },
 "nbformat": 4,
 "nbformat_minor": 4
}
