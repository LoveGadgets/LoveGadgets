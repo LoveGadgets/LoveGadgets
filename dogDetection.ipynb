{
 "cells": [
  {
   "cell_type": "code",
   "execution_count": 1,
   "metadata": {},
   "outputs": [],
   "source": [
    "# read its image data from Images\n",
    "from PIL import Image\n",
    "from pathlib import Path\n",
    "import os\n",
    "im = Image.open(\"/Users/Daniel/dogs/Images/n02093859-Kerry_blue_terrier/n02093859_508.jpg\") \n",
    "# im.show()\n",
    "dataPath = \"/Users/Daniel/dogs/Images/n02093859-Kerry_blue_terrier/\"\n",
    "def readImage(imageName):\n",
    "    imagePath = dataPath+imageName\n",
    "    return Image.open(imagePath).tobytes()"
   ]
  },
  {
   "cell_type": "code",
   "execution_count": 2,
   "metadata": {},
   "outputs": [],
   "source": [
    "# Given an image name, read its annotation from Annotations\n",
    "import xml.etree.ElementTree as ET\n",
    "annoPath = \"/Users/Daniel/dogs/Annotation/n02093859-Kerry_blue_terrier/\"\n",
    "def readAnnotation(imageName):\n",
    "    imagePath = annoPath+imageName\n",
    "    tree = ET.parse(imagePath)\n",
    "    root = tree.getroot()\n",
    "    for child in root:\n",
    "     print (child.tag, child.attrib)   "
   ]
  },
  {
   "cell_type": "code",
   "execution_count": null,
   "metadata": {},
   "outputs": [],
   "source": [
    "# Given an image name, return whether it is train (True) or test (False).\n",
    "import numpy as np\n",
    "import scipy.io as sio\n",
    "listPath = \"/Users/Daniel/dogs/lists/train_list.mat\"\n",
    "def isTrain(imageName, list):\n",
    "    matFile = sio.loadmat(list)\n",
    "    sorted(matFile.keys())\n",
    "    array = matFile['file_list']\n",
    "    for image in array:\n",
    "        splited = np.char.split(image[0],sep = '/')\n",
    "        if imageName == splited[0][1]:\n",
    "            return True\n",
    "    return False   "
   ]
  }
 ],
 "metadata": {
  "kernelspec": {
   "display_name": "Python 3",
   "language": "python",
   "name": "python3"
  },
  "language_info": {
   "codemirror_mode": {
    "name": "ipython",
    "version": 3
   },
   "file_extension": ".py",
   "mimetype": "text/x-python",
   "name": "python",
   "nbconvert_exporter": "python",
   "pygments_lexer": "ipython3",
   "version": "3.7.6"
  }
 },
 "nbformat": 4,
 "nbformat_minor": 4
}
